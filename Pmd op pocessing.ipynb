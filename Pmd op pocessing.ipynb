{
 "cells": [
  {
   "cell_type": "code",
   "execution_count": 1,
   "metadata": {},
   "outputs": [],
   "source": [
    "from bs4 import BeautifulSoup\n",
    "import xml.etree.ElementTree as ET \n",
    "import os\n",
    "# xml = BeautifulSoup('output.xml','xml.parser')\n",
    "xml2 = ET.parse('output.xml')"
   ]
  },
  {
   "cell_type": "code",
   "execution_count": 2,
   "metadata": {},
   "outputs": [],
   "source": [
    "index=0\n",
    "snip_dict = {}\n",
    "for dup_tag in xml2.getroot().findall('pmd-cpd/duplication'):\n",
    "    for file_tag in dup_tag.findall('file'):\n",
    "        val = file_tag.get('path')\n",
    "        if val.endswith('snippets.java'):\n",
    "            code = dup_tag.find('codefragment').text\n",
    "            if val in snip_dict.keys():\n",
    "                vl = snip_dict[val]\n",
    "                vl.append(code)\n",
    "                snip_dict[val]=vl\n",
    "            else:\n",
    "                vl = []\n",
    "                vl.append(code)\n",
    "                snip_dict[val]=vl\n",
    "            \n"
   ]
  },
  {
   "cell_type": "code",
   "execution_count": 3,
   "metadata": {},
   "outputs": [],
   "source": [
    "# l = list(snip_dict.keys())\n",
    "# k = (snip_dict[l[0]])\n",
    "# l[0]"
   ]
  },
  {
   "cell_type": "code",
   "execution_count": 4,
   "metadata": {},
   "outputs": [
    {
     "data": {
      "text/html": [
       "<div>\n",
       "<style scoped>\n",
       "    .dataframe tbody tr th:only-of-type {\n",
       "        vertical-align: middle;\n",
       "    }\n",
       "\n",
       "    .dataframe tbody tr th {\n",
       "        vertical-align: top;\n",
       "    }\n",
       "\n",
       "    .dataframe thead th {\n",
       "        text-align: right;\n",
       "    }\n",
       "</style>\n",
       "<table border=\"1\" class=\"dataframe\">\n",
       "  <thead>\n",
       "    <tr style=\"text-align: right;\">\n",
       "      <th></th>\n",
       "      <th>FilePath</th>\n",
       "      <th>Found in</th>\n",
       "      <th>% snippet in diff</th>\n",
       "    </tr>\n",
       "  </thead>\n",
       "  <tbody>\n",
       "  </tbody>\n",
       "</table>\n",
       "</div>"
      ],
      "text/plain": [
       "Empty DataFrame\n",
       "Columns: [FilePath, Found in, % snippet in diff]\n",
       "Index: []"
      ]
     },
     "execution_count": 4,
     "metadata": {},
     "output_type": "execute_result"
    }
   ],
   "source": [
    "import pandas as pd\n",
    "columns = ['FilePath','Found in','% snippet in diff']\n",
    "\n",
    "df = pd.DataFrame(columns=columns)\n",
    "df"
   ]
  },
  {
   "cell_type": "code",
   "execution_count": 5,
   "metadata": {},
   "outputs": [],
   "source": [
    "import subprocess\n",
    "import shlex\n",
    "\n",
    "def get_snip_id(snip_list, file_text):\n",
    "    snip_id = -1\n",
    "    index=-1\n",
    "    for snip in snip_list:\n",
    "        index+=1\n",
    "        if file_text.find(snip)!=-1:\n",
    "            if snip_id==-1:\n",
    "                snip_id=index\n",
    "            elif len(snip)>len(snip_list[snip_id]):\n",
    "                snip_id=index\n",
    "    return snip_id\n",
    "\n",
    "for key in snip_dict.keys():\n",
    "    act_fldr = key.replace('/home/kashivns/soft/./file-data/','').replace('/snippets.java','')\n",
    "    dir_list = os.listdir(act_fldr)\n",
    "    num_dir=0\n",
    "    for d in dir_list:\n",
    "        if os.path.isdir(os.path.join(act_fldr,d)):\n",
    "            num_dir+=1\n",
    "    for i in range(num_dir,1,-1):\n",
    "        fd = os.path.join(act_fldr,str(i))\n",
    "        fi = os.listdir(fd)[0]\n",
    "        with open(os.path.join(fd,fi), 'r') as fil:\n",
    "            data = fil.read()\n",
    "        snp_ind = get_snip_id(snip_dict[key],data)\n",
    "        if(snp_ind!=-1):\n",
    "            if i==num_dir:\n",
    "                continue\n",
    "            fd2=os.path.join(act_fldr,str(i+1))\n",
    "            fi2 = os.listdir(fd2)[0]\n",
    "            with open(os.path.join(fd2,fi2), 'r') as fil:\n",
    "                data2 = fil.read()\n",
    "            sd1 = os.path.join(fd2,fi2)\n",
    "            sd2 = os.path.join(fd,fi)\n",
    "            d2 = snip_dict[key][snp_ind]\n",
    "            os.system('./getDiff.sh '+sd1+' '+sd2)\n",
    "            with open(os.path.join('temp.txt'), 'r') as fil:\n",
    "                d1 = fil.read()\n",
    "            percent_snip = len(d2)/len(d1)\n",
    "            os.remove('temp.txt')\n",
    "            row = {'FilePath': key, 'Found in': i, '% snippet in diff': percent_snip}\n",
    "#             print(row)\n",
    "            df = df.append(row, ignore_index=True)\n",
    "            break"
   ]
  },
  {
   "cell_type": "code",
   "execution_count": 6,
   "metadata": {},
   "outputs": [
    {
     "data": {
      "text/html": [
       "<div>\n",
       "<style scoped>\n",
       "    .dataframe tbody tr th:only-of-type {\n",
       "        vertical-align: middle;\n",
       "    }\n",
       "\n",
       "    .dataframe tbody tr th {\n",
       "        vertical-align: top;\n",
       "    }\n",
       "\n",
       "    .dataframe thead th {\n",
       "        text-align: right;\n",
       "    }\n",
       "</style>\n",
       "<table border=\"1\" class=\"dataframe\">\n",
       "  <thead>\n",
       "    <tr style=\"text-align: right;\">\n",
       "      <th></th>\n",
       "      <th>FilePath</th>\n",
       "      <th>Found in</th>\n",
       "      <th>% snippet in diff</th>\n",
       "    </tr>\n",
       "  </thead>\n",
       "  <tbody>\n",
       "    <tr>\n",
       "      <th>0</th>\n",
       "      <td>/home/kashivns/soft/./file-data/Android-Bootst...</td>\n",
       "      <td>4</td>\n",
       "      <td>0.504286</td>\n",
       "    </tr>\n",
       "    <tr>\n",
       "      <th>1</th>\n",
       "      <td>/home/kashivns/soft/./file-data/BloomReader/ap...</td>\n",
       "      <td>27</td>\n",
       "      <td>0.962445</td>\n",
       "    </tr>\n",
       "    <tr>\n",
       "      <th>2</th>\n",
       "      <td>/home/kashivns/soft/./file-data/BungeeChat2/sr...</td>\n",
       "      <td>4</td>\n",
       "      <td>0.057229</td>\n",
       "    </tr>\n",
       "    <tr>\n",
       "      <th>3</th>\n",
       "      <td>/home/kashivns/soft/./file-data/CEFCommon/src-...</td>\n",
       "      <td>7</td>\n",
       "      <td>4.478571</td>\n",
       "    </tr>\n",
       "    <tr>\n",
       "      <th>4</th>\n",
       "      <td>/home/kashivns/soft/./file-data/CastOffline/sr...</td>\n",
       "      <td>3</td>\n",
       "      <td>0.912424</td>\n",
       "    </tr>\n",
       "    <tr>\n",
       "      <th>...</th>\n",
       "      <td>...</td>\n",
       "      <td>...</td>\n",
       "      <td>...</td>\n",
       "    </tr>\n",
       "    <tr>\n",
       "      <th>90</th>\n",
       "      <td>/home/kashivns/soft/./file-data/superluminal2/...</td>\n",
       "      <td>2</td>\n",
       "      <td>0.057376</td>\n",
       "    </tr>\n",
       "    <tr>\n",
       "      <th>91</th>\n",
       "      <td>/home/kashivns/soft/./file-data/surveyor/app-s...</td>\n",
       "      <td>11</td>\n",
       "      <td>0.205615</td>\n",
       "    </tr>\n",
       "    <tr>\n",
       "      <th>92</th>\n",
       "      <td>/home/kashivns/soft/./file-data/test/src-main-...</td>\n",
       "      <td>16</td>\n",
       "      <td>0.292526</td>\n",
       "    </tr>\n",
       "    <tr>\n",
       "      <th>93</th>\n",
       "      <td>/home/kashivns/soft/./file-data/the-week-magaz...</td>\n",
       "      <td>3</td>\n",
       "      <td>0.418301</td>\n",
       "    </tr>\n",
       "    <tr>\n",
       "      <th>94</th>\n",
       "      <td>/home/kashivns/soft/./file-data/vuze-remote-fo...</td>\n",
       "      <td>8</td>\n",
       "      <td>0.027064</td>\n",
       "    </tr>\n",
       "  </tbody>\n",
       "</table>\n",
       "<p>95 rows × 3 columns</p>\n",
       "</div>"
      ],
      "text/plain": [
       "                                             FilePath Found in  \\\n",
       "0   /home/kashivns/soft/./file-data/Android-Bootst...        4   \n",
       "1   /home/kashivns/soft/./file-data/BloomReader/ap...       27   \n",
       "2   /home/kashivns/soft/./file-data/BungeeChat2/sr...        4   \n",
       "3   /home/kashivns/soft/./file-data/CEFCommon/src-...        7   \n",
       "4   /home/kashivns/soft/./file-data/CastOffline/sr...        3   \n",
       "..                                                ...      ...   \n",
       "90  /home/kashivns/soft/./file-data/superluminal2/...        2   \n",
       "91  /home/kashivns/soft/./file-data/surveyor/app-s...       11   \n",
       "92  /home/kashivns/soft/./file-data/test/src-main-...       16   \n",
       "93  /home/kashivns/soft/./file-data/the-week-magaz...        3   \n",
       "94  /home/kashivns/soft/./file-data/vuze-remote-fo...        8   \n",
       "\n",
       "    % snippet in diff  \n",
       "0            0.504286  \n",
       "1            0.962445  \n",
       "2            0.057229  \n",
       "3            4.478571  \n",
       "4            0.912424  \n",
       "..                ...  \n",
       "90           0.057376  \n",
       "91           0.205615  \n",
       "92           0.292526  \n",
       "93           0.418301  \n",
       "94           0.027064  \n",
       "\n",
       "[95 rows x 3 columns]"
      ]
     },
     "execution_count": 6,
     "metadata": {},
     "output_type": "execute_result"
    }
   ],
   "source": [
    "df"
   ]
  },
  {
   "cell_type": "code",
   "execution_count": 15,
   "metadata": {
    "scrolled": true
   },
   "outputs": [
    {
     "name": "stdout",
     "output_type": "stream",
     "text": [
      "57\n"
     ]
    }
   ],
   "source": [
    "count=0\n",
    "for i in range(len(df)):\n",
    "    if df['% snippet in diff'][i]>0.2:\n",
    "        count+=1\n",
    "print(count)"
   ]
  },
  {
   "cell_type": "code",
   "execution_count": 12,
   "metadata": {},
   "outputs": [],
   "source": [
    "df.to_csv('output1.csv')"
   ]
  }
 ],
 "metadata": {
  "kernelspec": {
   "display_name": "Python 3",
   "language": "python",
   "name": "python3"
  },
  "language_info": {
   "codemirror_mode": {
    "name": "ipython",
    "version": 3
   },
   "file_extension": ".py",
   "mimetype": "text/x-python",
   "name": "python",
   "nbconvert_exporter": "python",
   "pygments_lexer": "ipython3",
   "version": "3.7.7"
  }
 },
 "nbformat": 4,
 "nbformat_minor": 4
}
