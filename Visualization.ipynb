{
 "cells": [
  {
   "cell_type": "code",
   "execution_count": 1,
   "metadata": {},
   "outputs": [],
   "source": [
    "import pandas as pd\n"
   ]
  },
  {
   "cell_type": "code",
   "execution_count": 7,
   "metadata": {},
   "outputs": [
    {
     "name": "stdout",
     "output_type": "stream",
     "text": [
      "<class 'pandas.core.frame.DataFrame'>\n",
      "RangeIndex: 236 entries, 0 to 235\n",
      "Data columns (total 7 columns):\n",
      " #   Column             Non-Null Count  Dtype  \n",
      "---  ------             --------------  -----  \n",
      " 0   Index              236 non-null    int64  \n",
      " 1   FilePath           236 non-null    object \n",
      " 2   Found in           236 non-null    int64  \n",
      " 3   % snippet in diff  236 non-null    float64\n",
      " 4   pre_LCOM           235 non-null    float64\n",
      " 5   post_LCOM          235 non-null    float64\n",
      " 6   latest_LCOM        235 non-null    float64\n",
      "dtypes: float64(4), int64(2), object(1)\n",
      "memory usage: 13.0+ KB\n"
     ]
    }
   ],
   "source": [
    "d = pd.read_csv(\"pooled-data2.csv\")\n",
    "d.info()"
   ]
  },
  {
   "cell_type": "code",
   "execution_count": 11,
   "metadata": {},
   "outputs": [
    {
     "name": "stdout",
     "output_type": "stream",
     "text": [
      "improved =  40\n",
      "gone_down =  51\n",
      "same =  144\n",
      "same abv  61\n",
      "same blw  83\n",
      "gone down abv  6\n",
      "gone down blw  45\n",
      "improved abv  0\n",
      "improved blw  40\n"
     ]
    }
   ],
   "source": [
    "improved = 0\n",
    "gone_down = 0\n",
    "same = 0\n",
    "same_abv5 = 0\n",
    "same_blw5 = 0\n",
    "gone_down_abv5 = 0\n",
    "gone_down_blw5 = 0\n",
    "improved_abv5 = 0\n",
    "improved_blw5 = 0\n",
    "\n",
    "worse = d[d['pre_LCOM']<d['post_LCOM']]\n",
    "for index, row in d.iterrows():\n",
    "    if row['pre_LCOM'] == row['post_LCOM']:\n",
    "        same += 1\n",
    "        #same_list.append((index,row[\"% snippet in diff\"]))\n",
    "        if row[\"% snippet in diff\"] > 0.5:\n",
    "            same_abv5 += 1\n",
    "        else:\n",
    "            same_blw5 += 1\n",
    "    elif row['pre_LCOM'] > row['post_LCOM']:\n",
    "        improved +=1\n",
    "        if row[\"% snippet in diff\"] > 0.5:\n",
    "            improved_abv5 += 1\n",
    "        else:\n",
    "            improved_blw5 += 1\n",
    "                         \n",
    "    elif row['pre_LCOM'] < row['post_LCOM']:\n",
    "        \n",
    "        gone_down +=1\n",
    "        if row[\"% snippet in diff\"] > 0.5:\n",
    "            gone_down_abv5 += 1\n",
    "        else:\n",
    "            gone_down_blw5 += 1\n",
    "                         \n",
    "print(\"improved = \", improved)\n",
    "print(\"gone_down = \", gone_down)\n",
    "print(\"same = \", same)\n",
    "print(\"same abv \",same_abv5)\n",
    "print(\"same blw \",same_blw5)\n",
    "print(\"gone down abv \",gone_down_abv5)\n",
    "print(\"gone down blw \",gone_down_blw5)\n",
    "print(\"improved abv \",improved_abv5)\n",
    "print(\"improved blw \",improved_blw5)\n"
   ]
  },
  {
   "cell_type": "code",
   "execution_count": 14,
   "metadata": {},
   "outputs": [
    {
     "data": {
      "text/plain": [
       "51"
      ]
     },
     "execution_count": 14,
     "metadata": {},
     "output_type": "execute_result"
    }
   ],
   "source": [
    "len(worse)"
   ]
  },
  {
   "cell_type": "code",
   "execution_count": 18,
   "metadata": {},
   "outputs": [
    {
     "name": "stdout",
     "output_type": "stream",
     "text": [
      "19\n",
      "11\n"
     ]
    }
   ],
   "source": [
    "# partrecovered = worse[worse['pre_LCOM']<worse['latest_LCOM'] and worse['latest_LCOM']<worse['post_LCOM']]\n",
    "notrecov = worse[worse['post_LCOM']<worse['latest_LCOM']]\n",
    "recov = worse[worse['pre_LCOM']>=worse['latest_LCOM']]\n",
    "print(len(notrecov))\n",
    "print(len(recov))"
   ]
  },
  {
   "cell_type": "code",
   "execution_count": 21,
   "metadata": {},
   "outputs": [],
   "source": [
    "ds1 = set([tuple(line) for line in worse.values])\n",
    "ds2 = set([tuple(line) for line in notrecov.values])\n",
    "ds3 = set([tuple(line) for line in recov.values])"
   ]
  },
  {
   "cell_type": "code",
   "execution_count": 22,
   "metadata": {},
   "outputs": [
    {
     "data": {
      "text/html": [
       "<div>\n",
       "<style scoped>\n",
       "    .dataframe tbody tr th:only-of-type {\n",
       "        vertical-align: middle;\n",
       "    }\n",
       "\n",
       "    .dataframe tbody tr th {\n",
       "        vertical-align: top;\n",
       "    }\n",
       "\n",
       "    .dataframe thead th {\n",
       "        text-align: right;\n",
       "    }\n",
       "</style>\n",
       "<table border=\"1\" class=\"dataframe\">\n",
       "  <thead>\n",
       "    <tr style=\"text-align: right;\">\n",
       "      <th></th>\n",
       "      <th>0</th>\n",
       "      <th>1</th>\n",
       "      <th>2</th>\n",
       "      <th>3</th>\n",
       "      <th>4</th>\n",
       "      <th>5</th>\n",
       "      <th>6</th>\n",
       "    </tr>\n",
       "  </thead>\n",
       "  <tbody>\n",
       "    <tr>\n",
       "      <th>0</th>\n",
       "      <td>90</td>\n",
       "      <td>final/hlmng/hlmng-src-testing-RestTest</td>\n",
       "      <td>16</td>\n",
       "      <td>0.065661</td>\n",
       "      <td>0.000000</td>\n",
       "      <td>0.461538</td>\n",
       "      <td>0.428571</td>\n",
       "    </tr>\n",
       "    <tr>\n",
       "      <th>1</th>\n",
       "      <td>61</td>\n",
       "      <td>file-data/go-jay/app-src-main-java-ai-agusibra...</td>\n",
       "      <td>3</td>\n",
       "      <td>0.168226</td>\n",
       "      <td>0.275000</td>\n",
       "      <td>0.300000</td>\n",
       "      <td>0.279070</td>\n",
       "    </tr>\n",
       "    <tr>\n",
       "      <th>2</th>\n",
       "      <td>42</td>\n",
       "      <td>file-data/appcommons/app-src-main-java-com-ben...</td>\n",
       "      <td>3</td>\n",
       "      <td>0.069994</td>\n",
       "      <td>0.428571</td>\n",
       "      <td>0.529412</td>\n",
       "      <td>0.500000</td>\n",
       "    </tr>\n",
       "    <tr>\n",
       "      <th>3</th>\n",
       "      <td>13</td>\n",
       "      <td>final/ColorSetter/src-Apercu</td>\n",
       "      <td>5</td>\n",
       "      <td>0.128934</td>\n",
       "      <td>0.000000</td>\n",
       "      <td>0.666667</td>\n",
       "      <td>0.666667</td>\n",
       "    </tr>\n",
       "    <tr>\n",
       "      <th>4</th>\n",
       "      <td>117</td>\n",
       "      <td>final/rico/avro-src-main-java-com-quantiply-av...</td>\n",
       "      <td>4</td>\n",
       "      <td>0.451822</td>\n",
       "      <td>0.666667</td>\n",
       "      <td>0.800000</td>\n",
       "      <td>0.714286</td>\n",
       "    </tr>\n",
       "    <tr>\n",
       "      <th>5</th>\n",
       "      <td>20</td>\n",
       "      <td>file-data/OlomouckyBazen/app-src-main-java-cz-...</td>\n",
       "      <td>8</td>\n",
       "      <td>0.195930</td>\n",
       "      <td>0.600000</td>\n",
       "      <td>0.615385</td>\n",
       "      <td>0.615385</td>\n",
       "    </tr>\n",
       "    <tr>\n",
       "      <th>6</th>\n",
       "      <td>45</td>\n",
       "      <td>final/PRECISE/src-precise_repl-Tokenizer</td>\n",
       "      <td>5</td>\n",
       "      <td>0.220996</td>\n",
       "      <td>0.500000</td>\n",
       "      <td>0.538462</td>\n",
       "      <td>0.538462</td>\n",
       "    </tr>\n",
       "    <tr>\n",
       "      <th>7</th>\n",
       "      <td>82</td>\n",
       "      <td>file-data/remoting/src-main-java-hudson-remoti...</td>\n",
       "      <td>5</td>\n",
       "      <td>0.247215</td>\n",
       "      <td>0.181818</td>\n",
       "      <td>0.214286</td>\n",
       "      <td>0.200000</td>\n",
       "    </tr>\n",
       "    <tr>\n",
       "      <th>8</th>\n",
       "      <td>6</td>\n",
       "      <td>final/Android_Pebble_SD/app-src-main-java-uk-o...</td>\n",
       "      <td>19</td>\n",
       "      <td>0.152687</td>\n",
       "      <td>0.000000</td>\n",
       "      <td>0.250000</td>\n",
       "      <td>0.103448</td>\n",
       "    </tr>\n",
       "    <tr>\n",
       "      <th>9</th>\n",
       "      <td>101</td>\n",
       "      <td>final/lti_starter/src-main-java-ltistarter-App...</td>\n",
       "      <td>15</td>\n",
       "      <td>0.605659</td>\n",
       "      <td>0.615385</td>\n",
       "      <td>0.666667</td>\n",
       "      <td>0.666667</td>\n",
       "    </tr>\n",
       "    <tr>\n",
       "      <th>10</th>\n",
       "      <td>5</td>\n",
       "      <td>final/AndroidProjectsClient/markdowntextview-s...</td>\n",
       "      <td>4</td>\n",
       "      <td>0.475655</td>\n",
       "      <td>-1.000000</td>\n",
       "      <td>0.750000</td>\n",
       "      <td>0.750000</td>\n",
       "    </tr>\n",
       "    <tr>\n",
       "      <th>11</th>\n",
       "      <td>37</td>\n",
       "      <td>final/MusicOcracy/app-src-main-java-com-musico...</td>\n",
       "      <td>14</td>\n",
       "      <td>0.192492</td>\n",
       "      <td>-1.000000</td>\n",
       "      <td>0.666667</td>\n",
       "      <td>0.318182</td>\n",
       "    </tr>\n",
       "    <tr>\n",
       "      <th>12</th>\n",
       "      <td>68</td>\n",
       "      <td>final/arx/src-gui-org-deidentifier-arx-gui-vie...</td>\n",
       "      <td>4</td>\n",
       "      <td>1.208426</td>\n",
       "      <td>0.145455</td>\n",
       "      <td>0.153846</td>\n",
       "      <td>0.153846</td>\n",
       "    </tr>\n",
       "    <tr>\n",
       "      <th>13</th>\n",
       "      <td>60</td>\n",
       "      <td>final/TutorialCardLibrary/app-src-main-java-co...</td>\n",
       "      <td>2</td>\n",
       "      <td>0.158541</td>\n",
       "      <td>0.000000</td>\n",
       "      <td>0.222222</td>\n",
       "      <td>0.222222</td>\n",
       "    </tr>\n",
       "    <tr>\n",
       "      <th>14</th>\n",
       "      <td>113</td>\n",
       "      <td>final/ramp/src-it-unibo-deis-lia-ramp-RampEntr...</td>\n",
       "      <td>3</td>\n",
       "      <td>0.011869</td>\n",
       "      <td>0.300000</td>\n",
       "      <td>0.317073</td>\n",
       "      <td>0.317073</td>\n",
       "    </tr>\n",
       "    <tr>\n",
       "      <th>15</th>\n",
       "      <td>15</td>\n",
       "      <td>final/DocScan/app-src-main-java-at-ac-tuwien-c...</td>\n",
       "      <td>23</td>\n",
       "      <td>0.173582</td>\n",
       "      <td>-1.000000</td>\n",
       "      <td>0.500000</td>\n",
       "      <td>0.500000</td>\n",
       "    </tr>\n",
       "    <tr>\n",
       "      <th>16</th>\n",
       "      <td>48</td>\n",
       "      <td>final/PupAlert-android/app-src-main-java-com-t...</td>\n",
       "      <td>4</td>\n",
       "      <td>0.097404</td>\n",
       "      <td>0.363636</td>\n",
       "      <td>0.428571</td>\n",
       "      <td>0.428571</td>\n",
       "    </tr>\n",
       "    <tr>\n",
       "      <th>17</th>\n",
       "      <td>78</td>\n",
       "      <td>final/crowdshare/src-org-servalproject-rhizome...</td>\n",
       "      <td>15</td>\n",
       "      <td>0.092837</td>\n",
       "      <td>-1.000000</td>\n",
       "      <td>0.375000</td>\n",
       "      <td>0.076923</td>\n",
       "    </tr>\n",
       "    <tr>\n",
       "      <th>18</th>\n",
       "      <td>118</td>\n",
       "      <td>final/s3-directory-listing/src-main-java-com-k...</td>\n",
       "      <td>3</td>\n",
       "      <td>0.337524</td>\n",
       "      <td>0.000000</td>\n",
       "      <td>0.333333</td>\n",
       "      <td>0.250000</td>\n",
       "    </tr>\n",
       "    <tr>\n",
       "      <th>19</th>\n",
       "      <td>3</td>\n",
       "      <td>final/Android-Terminal-Test/hostapplication-re...</td>\n",
       "      <td>5</td>\n",
       "      <td>0.389329</td>\n",
       "      <td>-1.000000</td>\n",
       "      <td>0.666667</td>\n",
       "      <td>0.333333</td>\n",
       "    </tr>\n",
       "    <tr>\n",
       "      <th>20</th>\n",
       "      <td>31</td>\n",
       "      <td>file-data/TextJustify-Android/library-src-main...</td>\n",
       "      <td>25</td>\n",
       "      <td>0.128108</td>\n",
       "      <td>0.111111</td>\n",
       "      <td>0.147059</td>\n",
       "      <td>0.139535</td>\n",
       "    </tr>\n",
       "  </tbody>\n",
       "</table>\n",
       "</div>"
      ],
      "text/plain": [
       "      0                                                  1   2         3  \\\n",
       "0    90             final/hlmng/hlmng-src-testing-RestTest  16  0.065661   \n",
       "1    61  file-data/go-jay/app-src-main-java-ai-agusibra...   3  0.168226   \n",
       "2    42  file-data/appcommons/app-src-main-java-com-ben...   3  0.069994   \n",
       "3    13                       final/ColorSetter/src-Apercu   5  0.128934   \n",
       "4   117  final/rico/avro-src-main-java-com-quantiply-av...   4  0.451822   \n",
       "5    20  file-data/OlomouckyBazen/app-src-main-java-cz-...   8  0.195930   \n",
       "6    45           final/PRECISE/src-precise_repl-Tokenizer   5  0.220996   \n",
       "7    82  file-data/remoting/src-main-java-hudson-remoti...   5  0.247215   \n",
       "8     6  final/Android_Pebble_SD/app-src-main-java-uk-o...  19  0.152687   \n",
       "9   101  final/lti_starter/src-main-java-ltistarter-App...  15  0.605659   \n",
       "10    5  final/AndroidProjectsClient/markdowntextview-s...   4  0.475655   \n",
       "11   37  final/MusicOcracy/app-src-main-java-com-musico...  14  0.192492   \n",
       "12   68  final/arx/src-gui-org-deidentifier-arx-gui-vie...   4  1.208426   \n",
       "13   60  final/TutorialCardLibrary/app-src-main-java-co...   2  0.158541   \n",
       "14  113  final/ramp/src-it-unibo-deis-lia-ramp-RampEntr...   3  0.011869   \n",
       "15   15  final/DocScan/app-src-main-java-at-ac-tuwien-c...  23  0.173582   \n",
       "16   48  final/PupAlert-android/app-src-main-java-com-t...   4  0.097404   \n",
       "17   78  final/crowdshare/src-org-servalproject-rhizome...  15  0.092837   \n",
       "18  118  final/s3-directory-listing/src-main-java-com-k...   3  0.337524   \n",
       "19    3  final/Android-Terminal-Test/hostapplication-re...   5  0.389329   \n",
       "20   31  file-data/TextJustify-Android/library-src-main...  25  0.128108   \n",
       "\n",
       "           4         5         6  \n",
       "0   0.000000  0.461538  0.428571  \n",
       "1   0.275000  0.300000  0.279070  \n",
       "2   0.428571  0.529412  0.500000  \n",
       "3   0.000000  0.666667  0.666667  \n",
       "4   0.666667  0.800000  0.714286  \n",
       "5   0.600000  0.615385  0.615385  \n",
       "6   0.500000  0.538462  0.538462  \n",
       "7   0.181818  0.214286  0.200000  \n",
       "8   0.000000  0.250000  0.103448  \n",
       "9   0.615385  0.666667  0.666667  \n",
       "10 -1.000000  0.750000  0.750000  \n",
       "11 -1.000000  0.666667  0.318182  \n",
       "12  0.145455  0.153846  0.153846  \n",
       "13  0.000000  0.222222  0.222222  \n",
       "14  0.300000  0.317073  0.317073  \n",
       "15 -1.000000  0.500000  0.500000  \n",
       "16  0.363636  0.428571  0.428571  \n",
       "17 -1.000000  0.375000  0.076923  \n",
       "18  0.000000  0.333333  0.250000  \n",
       "19 -1.000000  0.666667  0.333333  \n",
       "20  0.111111  0.147059  0.139535  "
      ]
     },
     "execution_count": 22,
     "metadata": {},
     "output_type": "execute_result"
    }
   ],
   "source": [
    "dd1 = ds1.difference(ds2)\n",
    "dd2 = dd1.difference(ds3)\n",
    "partiallyrecov= pd.DataFrame(list(dd2))\n",
    "partiallyrecov"
   ]
  },
  {
   "cell_type": "code",
   "execution_count": 25,
   "metadata": {},
   "outputs": [
    {
     "data": {
      "text/plain": [
       "21"
      ]
     },
     "execution_count": 25,
     "metadata": {},
     "output_type": "execute_result"
    }
   ],
   "source": [
    "len(partiallyrecov)"
   ]
  },
  {
   "cell_type": "code",
   "execution_count": 27,
   "metadata": {},
   "outputs": [
    {
     "data": {
      "text/plain": [
       "0"
      ]
     },
     "execution_count": 27,
     "metadata": {},
     "output_type": "execute_result"
    }
   ],
   "source": [
    "recov_above = len(recov[recov['% snippet in diff']>0.5])\n",
    "recov_above"
   ]
  },
  {
   "cell_type": "code",
   "execution_count": 28,
   "metadata": {},
   "outputs": [
    {
     "data": {
      "text/plain": [
       "4"
      ]
     },
     "execution_count": 28,
     "metadata": {},
     "output_type": "execute_result"
    }
   ],
   "source": [
    "notrecov_above = len(notrecov[notrecov['% snippet in diff']>0.5])\n",
    "notrecov_above"
   ]
  },
  {
   "cell_type": "code",
   "execution_count": 31,
   "metadata": {},
   "outputs": [
    {
     "name": "stdout",
     "output_type": "stream",
     "text": [
      "<class 'pandas.core.frame.DataFrame'>\n",
      "RangeIndex: 21 entries, 0 to 20\n",
      "Data columns (total 7 columns):\n",
      " #   Column  Non-Null Count  Dtype  \n",
      "---  ------  --------------  -----  \n",
      " 0   0       21 non-null     int64  \n",
      " 1   1       21 non-null     object \n",
      " 2   2       21 non-null     int64  \n",
      " 3   3       21 non-null     float64\n",
      " 4   4       21 non-null     float64\n",
      " 5   5       21 non-null     float64\n",
      " 6   6       21 non-null     float64\n",
      "dtypes: float64(4), int64(2), object(1)\n",
      "memory usage: 1.3+ KB\n"
     ]
    }
   ],
   "source": [
    "partiallyrecov.info()"
   ]
  },
  {
   "cell_type": "code",
   "execution_count": 32,
   "metadata": {},
   "outputs": [
    {
     "data": {
      "text/plain": [
       "2"
      ]
     },
     "execution_count": 32,
     "metadata": {},
     "output_type": "execute_result"
    }
   ],
   "source": [
    "partiallyrecov_above = len(partiallyrecov[partiallyrecov[3]>0.5])\n",
    "partiallyrecov_above"
   ]
  },
  {
   "cell_type": "code",
   "execution_count": 64,
   "metadata": {},
   "outputs": [
    {
     "data": {
      "image/png": "[encoded data removed]",
      "text/plain": [
       "<Figure size 432x288 with 1 Axes>"
      ]
     },
     "metadata": {},
     "output_type": "display_data"
    }
   ],
   "source": [
    "import matplotlib.pyplot as plt\n",
    "%matplotlib inline\n",
    "# Pie chart, where the slices will be ordered and plotted counter-clockwise:\n",
    "labels = 'Constant', 'Deterioration', 'Improvement'\n",
    "sizes = [same,  gone_down,improved]\n",
    "explode = (0.05, 0.2, 0)  # only \"explode\" the 2nd slice (i.e. 'Hogs')\n",
    "\n",
    "fig1, ax1 = plt.subplots()\n",
    "ax1.pie(sizes, explode=explode, labels=labels, autopct='%1.1f%%',\n",
    "        colors = ['dodgerblue','r','g'], shadow=True, startangle=90)\n",
    "ax1.axis('equal')  # Equal aspect ratio ensures that pie is drawn as a circle.\n",
    "plt.title('LCOM distribution')\n",
    "plt.show()"
   ]
  },
  {
   "cell_type": "code",
   "execution_count": 51,
   "metadata": {},
   "outputs": [
    {
     "data": {
      "image/png": "[encoded data removed]",
      "text/plain": [
       "<Figure size 432x288 with 1 Axes>"
      ]
     },
     "metadata": {},
     "output_type": "display_data"
    }
   ],
   "source": [
    "import matplotlib.pyplot as plt\n",
    "%matplotlib inline\n",
    "# Pie chart, where the slices will be ordered and plotted counter-clockwise:\n",
    "labels = 'Above 50%', 'Below 50%'\n",
    "sizes = [gone_down_abv5, gone_down_blw5]\n",
    "explode = (0, 0.2)  # only \"explode\" the 2nd slice (i.e. 'Hogs')\n",
    "\n",
    "fig1, ax1 = plt.subplots()\n",
    "ax1.pie(sizes, explode=explode, labels=labels, autopct='%1.1f%%',\n",
    "        colors = ['r','g'], shadow=True, startangle=90)\n",
    "ax1.axis('equal')  # Equal aspect ratio ensures that pie is drawn as a circle.\n",
    "plt.title('% Snippet in Diff distribution for Deterioration')\n",
    "plt.show()"
   ]
  },
  {
   "cell_type": "code",
   "execution_count": 52,
   "metadata": {},
   "outputs": [
    {
     "data": {
      "image/png": "[encoded data removed]",
      "text/plain": [
       "<Figure size 432x288 with 1 Axes>"
      ]
     },
     "metadata": {},
     "output_type": "display_data"
    }
   ],
   "source": [
    "# Pie chart, where the slices will be ordered and plotted counter-clockwise:\n",
    "labels = 'Above 50%', 'Below 50%'\n",
    "sizes = [same_abv5, same_blw5]\n",
    "explode = (0, 0.2)  # only \"explode\" the 2nd slice (i.e. 'Hogs')\n",
    "\n",
    "fig1, ax1 = plt.subplots()\n",
    "ax1.pie(sizes, explode=explode, labels=labels, autopct='%1.1f%%',\n",
    "        colors = ['r','g'], shadow=True, startangle=90)\n",
    "ax1.axis('equal')  # Equal aspect ratio ensures that pie is drawn as a circle.\n",
    "plt.title('% Snippet in Diff distribution for Constant')\n",
    "plt.show()"
   ]
  },
  {
   "cell_type": "code",
   "execution_count": 54,
   "metadata": {},
   "outputs": [
    {
     "data": {
      "image/png": "[encoded data removed]",
      "text/plain": [
       "<Figure size 432x288 with 1 Axes>"
      ]
     },
     "metadata": {},
     "output_type": "display_data"
    }
   ],
   "source": [
    "# Pie chart, where the slices will be ordered and plotted counter-clockwise:\n",
    "labels = 'Above 50%', 'Below 50%'\n",
    "sizes = [improved_abv5, improved_blw5]\n",
    "explode = (0, 0.2)  # only \"explode\" the 2nd slice (i.e. 'Hogs')\n",
    "\n",
    "fig1, ax1 = plt.subplots()\n",
    "ax1.pie(sizes, explode=explode, labels=labels, autopct='%1.1f%%',\n",
    "        colors = ['r','g'], shadow=True, startangle=90)\n",
    "ax1.axis('equal')  # Equal aspect ratio ensures that pie is drawn as a circle.\n",
    "plt.title('% Snippet in Diff distribution for Improved')\n",
    "plt.show()"
   ]
  },
  {
   "cell_type": "code",
   "execution_count": 63,
   "metadata": {},
   "outputs": [
    {
     "data": {
      "image/png": "[encoded data removed]",
      "text/plain": [
       "<Figure size 432x288 with 1 Axes>"
      ]
     },
     "metadata": {
      "needs_background": "light"
     },
     "output_type": "display_data"
    }
   ],
   "source": [
    "import numpy as np\n",
    "N = 3\n",
    "above50 = (recov_above, partiallyrecov_above, notrecov_above)\n",
    "below50 = (len(recov)-recov_above, len(partiallyrecov)-partiallyrecov_above, len(notrecov)-notrecov_above)\n",
    "ind = np.arange(N)    # the x locations for the groups\n",
    "width = 0.45       # the width of the bars: can also be len(x) sequence\n",
    "\n",
    "p1 = plt.bar(ind, above50, width)\n",
    "p2 = plt.bar(ind, below50, width,\n",
    "             bottom=above50)\n",
    "\n",
    "plt.ylabel('No of files scanned')\n",
    "plt.title('Distribution of recovery in deteriorated files')\n",
    "plt.xticks(ind, ('Fully recovered', 'Partially recovered', 'Not recovered'))\n",
    "plt.yticks(np.arange(0, 35, 5))\n",
    "plt.legend((p1[0], p2[0]), ('Above 50% - code snippet in diff', 'Below 50 % - code snippet in diff'))\n",
    "\n",
    "plt.show()"
   ]
  },
  {
   "cell_type": "code",
   "execution_count": null,
   "metadata": {},
   "outputs": [],
   "source": []
  }
 ],
 "metadata": {
  "kernelspec": {
   "display_name": "Python 3",
   "language": "python",
   "name": "python3"
  },
  "language_info": {
   "codemirror_mode": {
    "name": "ipython",
    "version": 3
   },
   "file_extension": ".py",
   "mimetype": "text/x-python",
   "name": "python",
   "nbconvert_exporter": "python",
   "pygments_lexer": "ipython3",
   "version": "3.7.3"
  }
 },
 "nbformat": 4,
 "nbformat_minor": 4
}
